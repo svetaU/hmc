{
  "nbformat": 4,
  "nbformat_minor": 0,
  "metadata": {
    "colab": {
      "name": "model_w_auto_grad_HMC.ipynb",
      "provenance": [],
      "collapsed_sections": [],
      "toc_visible": true,
      "authorship_tag": "ABX9TyM0fgO1NGkyzWPqhOf9Jdf3",
      "include_colab_link": true
    },
    "kernelspec": {
      "name": "python3",
      "display_name": "Python 3"
    },
    "language_info": {
      "name": "python"
    }
  },
  "cells": [
    {
      "cell_type": "markdown",
      "metadata": {
        "id": "view-in-github",
        "colab_type": "text"
      },
      "source": [
        "<a href=\"https://colab.research.google.com/github/svetaU/hmc/blob/main/model_w_auto_grad_HMC.ipynb\" target=\"_parent\"><img src=\"https://colab.research.google.com/assets/colab-badge.svg\" alt=\"Open In Colab\"/></a>"
      ]
    },
    {
      "cell_type": "code",
      "source": [
        "import numpy as np\n",
        "import tensorflow as tf\n",
        "import scipy.stats as st\n",
        "import math\n",
        "from matplotlib import pyplot as plt\n",
        "from matplotlib.animation import FuncAnimation, writers"
      ],
      "metadata": {
        "id": "4YwUzIP922O1"
      },
      "execution_count": 1,
      "outputs": []
    },
    {
      "cell_type": "markdown",
      "source": [
        "# HMC"
      ],
      "metadata": {
        "id": "WlWqL6nuQIql"
      }
    },
    {
      "cell_type": "code",
      "execution_count": 2,
      "metadata": {
        "id": "R76KAy11z_VV"
      },
      "outputs": [],
      "source": [
        "def leapfrog(q, p, dUdq, num_steps, step_size, random_step=False,m=None):\n",
        "  if random_step:\n",
        "    step_size = np.random.uniform(step_size*0.8,step_size*1.2,1)\n",
        "  if m is None:\n",
        "    m = np.ones(len(p))\n",
        "  q, p = np.copy(q), np.copy(p)\n",
        "  p -= step_size * dUdq(q) / 2.0  \n",
        "  leap_path = [np.copy(q)]\n",
        "  for _ in range(num_steps - 1):\n",
        "      q += step_size * p/m  \n",
        "      p -= step_size * dUdq(q) \n",
        "      leap_path.append(np.copy(q))\n",
        "  q += step_size * p/m  \n",
        "  p -= step_size * dUdq(q) / 2.0\n",
        "  leap_path.append(np.copy(q)) \n",
        "  return (q,-p,leap_path)\n"
      ]
    },
    {
      "cell_type": "code",
      "source": [
        "def hamiltonian_monte_carlo(U, grad_U, current_position, steps=1, delta_t=0.5, change_step = False, masses = None):\n",
        "  q = np.copy(current_position)\n",
        "  p = np.random.normal(0.0,1.0,len(q)) \n",
        "  current_momentum = np.copy(p)\n",
        "  if masses is None:\n",
        "    masses = np.ones(len(p))\n",
        "  q, p, path = leapfrog(q,p,grad_U,steps,delta_t,change_step, masses)\n",
        "  current_U = U(current_position)\n",
        "  current_K = sum(current_momentum*current_momentum/masses) / 2\n",
        "  proposed_U = U(q)\n",
        "  proposed_K = sum(p*p/masses) / 2\n",
        "  if (np.log(np.random.rand()) < (current_U-proposed_U+current_K-proposed_K)):\n",
        "    return (q,proposed_U,1,path) # accept\n",
        "  else:\n",
        "    return (current_position, current_U,0,None) # reject"
      ],
      "metadata": {
        "id": "BYGtoap__aD0"
      },
      "execution_count": 3,
      "outputs": []
    },
    {
      "cell_type": "markdown",
      "source": [
        "# Test\n",
        "Fit parameters of bivariate gaussian ($\\mu_X$,$\\mu_Y$,$\\sigma_X$, $\\sigma_Y$, and $\\rho$) \n",
        "$$ \n",
        "p(x,y) =\n",
        "      \\frac{1}{2 \\pi  \\sigma_X \\sigma_Y \\sqrt{1-\\rho^2}}\n",
        "      \\exp\n",
        "        \\left( -\\frac{1}{2(1-\\rho^2)}\\left[\n",
        "          \\left(\\frac{x-\\mu_X}{\\sigma_X}\\right)^2 -\n",
        "          2\\rho\\left(\\frac{x-\\mu_X}{\\sigma_X}\\right)\\left(\\frac{y-\\mu_Y}{\\sigma_Y}\\right) +\n",
        "          \\left(\\frac{y-\\mu_Y}{\\sigma_Y}\\right)^2 \n",
        "        \\right]\n",
        "       \\right)\n",
        "$$\n",
        " via Bayesian approach with priors in the general form of\n",
        " $$\n",
        " \\pi_{ab}(\\mu_X,\\mu_Y,\\sigma_X,\\sigma_Y,\\rho)=\\frac{1}{\\sigma_X^{3-a}\\sigma_Y^{2-b}\\left(1-\\rho^2\\right )^{2-b/2}}\n",
        " $$\n",
        " ."
      ],
      "metadata": {
        "id": "uwCOu6nrQB5I"
      }
    },
    {
      "cell_type": "code",
      "source": [
        "class FitBivariatNormal():\n",
        "\n",
        "  def __init__(self, **kwargs):\n",
        "    self.data = []\n",
        "\n",
        "  def set_data(self,data):\n",
        "    self.data = np.copy(data)\n",
        "\n",
        "  def log_likelihood(self,params): # -log(p)\n",
        "    m1 = params[0]\n",
        "    m2 = params[1]\n",
        "    s1 = params[2]\n",
        "    s2 = params[3]\n",
        "    corr = params[4]\n",
        "    y = 0\n",
        "    for x in self.data:\n",
        "      y = y + ( (x[0] - m1)**2/s1/s1 + (x[1] - m2)**2/s2/s2 - 2.0*corr*(x[0] - m1)*(x[1] - m2)/s2/s2 )/2.0/(1-corr*corr) \\\n",
        "      + math.log(s1) + math.log(s2) + 0.5*math.log(1. - corr*corr)\n",
        "    return y   \n",
        "\n",
        "  def tf_log_likelihood(self,params): # -log(p)\n",
        "    y = 0\n",
        "    for x in self.data:\n",
        "      y = y + tf.math.divide(( tf.math.divide(tf.math.square(x[0] - params[0]),tf.math.square(params[2])) \\\n",
        "               + tf.math.divide(tf.math.square(x[1] - params[1]),tf.math.square(params[3])) \\\n",
        "               - tf.math.divide(2.0*params[4]*tf.math.multiply((x[0] - params[0]),(x[1] - params[1])),tf.math.multiply(params[2],params[3])) ) \\\n",
        "      ,tf.math.multiply(2.0,(1-tf.math.square(params[4])))) \\\n",
        "      + tf.math.log(params[2]) + tf.math.log(params[3]) + 0.5*tf.math.log(1. - tf.math.square(params[4]))\n",
        "    return y \n",
        "\n",
        "  def log_priors(self,params): # -log(\\pi)\n",
        "    a = 1\n",
        "    b = 0\n",
        "    m1 = params[0]\n",
        "    m2 = params[1]\n",
        "    s1 = params[2]\n",
        "    s2 = params[3]\n",
        "    corr = params[4]\n",
        "    p_params = (3. - a)*s1 + (2. - b)*s2 + (2. - 0.5*b)*(1. - corr*corr)\n",
        "    return p_params\n",
        "\n",
        "  def tf_log_priors(self,params): # -log(\\pi)\n",
        "    a = 1\n",
        "    b = 0\n",
        "    hyp_params = tf.constant([0.,0.,(3. - a),(2. - b),(2. - 0.5*b)])\n",
        "    p_params = tf.math.multiply(hyp_params,params)\n",
        "    y = tf.reduce_sum(p_params) - tf.math.multiply(hyp_params[4],params[4]) + tf.math.multiply(hyp_params[4],(1. - tf.math.square(params[4])))\n",
        "    return y\n",
        "\n",
        "  def log_likelihood_grad(self,params): \n",
        "    params = tf.convert_to_tensor(params, dtype=tf.float32)\n",
        "    with tf.GradientTape() as tape:\n",
        "      tape.watch(params)\n",
        "      y = self.tf_log_likelihood(params)\n",
        "    return tape.gradient(y,params).numpy()\n",
        "\n",
        "  def log_priors_grad(self, params):\n",
        "    params = tf.convert_to_tensor(params, dtype=tf.float32)\n",
        "    with tf.GradientTape() as tape:\n",
        "      tape.watch(params)\n",
        "      y = self.tf_log_priors(params)\n",
        "    return tape.gradient(y,params).numpy()\n",
        "\n",
        "  def log_prob(self, params):\n",
        "    return self.log_likelihood(params) + self.log_priors(params)\n",
        "\n",
        "  def log_prob_grad(self,params):\n",
        "    return self.log_likelihood_grad(params) + self.log_priors_grad(params)\n"
      ],
      "metadata": {
        "id": "RZt78QWMbTFH"
      },
      "execution_count": 19,
      "outputs": []
    },
    {
      "cell_type": "markdown",
      "source": [
        "# Fit parameters"
      ],
      "metadata": {
        "id": "gK_lj5M2UPym"
      }
    },
    {
      "cell_type": "code",
      "source": [
        "def fit_bivariate_w_hmc():\n",
        "  target_mean = [2.,3.]\n",
        "  target_cov = [[2.5,0.4],[0.4,1.6]] \n",
        "  sigma1 = round(math.sqrt(target_cov[0][0]),2)\n",
        "  sigma2 = round(math.sqrt(target_cov[1][1]),2)\n",
        "  rho = round(target_cov[0][1]/sigma1/sigma2,2)\n",
        "  sample_size = 100\n",
        "  data_sample = np.random.multivariate_normal(target_mean,target_cov,size=sample_size)\n",
        "  m = [2.,2.,10.,10., 100.]\n",
        "  x_limits = (target_mean[0] - target_cov[0][0]*1.,target_mean[0] + target_cov[0][0]*1.)\n",
        "  y_limits = (target_mean[1] - target_cov[1][1]*1.,target_mean[1] + target_cov[1][1]*1.)\n",
        "  model_fit = FitBivariatNormal()\n",
        "  model_fit.set_data(data_sample)\n",
        "  points_to_sim = 10\n",
        "  l_steps = 10\n",
        "  burn = 0\n",
        "  hmc_steps = np.asarray(range(points_to_sim+1-burn))\n",
        "  sim_dots = []\n",
        "  q = np.asarray([0.,0.,1.,1.,0.])\n",
        "  sim_dots.append(q)\n",
        "  paths = []\n",
        "  accept_rate = 0\n",
        "  for i in range(points_to_sim):\n",
        "    q, orbit,accept,l_path = hamiltonian_monte_carlo(model_fit.log_prob,model_fit.log_prob_grad,q,steps=l_steps, \\\n",
        "                                                     delta_t=0.01,masses = m)\n",
        "    sim_dots.append(q)\n",
        "    paths.append(l_path)\n",
        "    accept_rate = accept_rate + accept\n",
        "  fig = plt.figure(figsize = (5,5))\n",
        "  axes = fig.add_subplot(1,1,1)\n",
        "  #axes.set_xlim(x_limits[0],x_limits[1])\n",
        "  #axes.set_ylim(y_limits[0],y_limits[1])\n",
        "  for point in sim_dots[burn:points_to_sim]:\n",
        "    plt.scatter(point[0],point[1],c='red',s=30)\n",
        "  for path in paths[burn:points_to_sim]:\n",
        "    if path is not None:\n",
        "      plt.plot(np.asarray(path)[:,0],np.asarray(path)[:,1], c='black')\n",
        "  plt.title(\"Bivariate means\")\n",
        "  plt.xlabel(\"mu1\")\n",
        "  plt.ylabel(\"mu2\")  \n",
        "  plt.show()\n",
        "  print(\"Acceptance rate \" + str(accept_rate/points_to_sim))\n",
        "  print(\"First mean \" + str(np.mean(np.asarray(sim_dots)[burn:,0])) + \" (expected \" + str(target_mean[0]) + \")\")\n",
        "  print(\"Second mean \" + str(np.mean(np.asarray(sim_dots)[burn:,1])) + \" (expected \" + str(target_mean[1]) + \")\")\n",
        "  print(\"First sigma \" + str(np.mean(np.asarray(sim_dots)[burn:,2])) + \" (expected \" + str(sigma1) + \")\")\n",
        "  print(\"Second sigma \" + str(np.mean(np.asarray(sim_dots)[burn:,3])) + \" (expected \" + str(sigma2) + \")\")\n",
        "  print(\"Rho \" + str(np.mean(np.asarray(sim_dots)[burn:,4])) + \" (expected \" + str(rho) + \")\")\n",
        "  \n",
        "  plt.scatter(hmc_steps,np.asarray(sim_dots)[burn:,0])\n",
        "  plt.title(\"Trace plot mu1\")\n",
        "  plt.xlabel(\"iteration\")\n",
        "  plt.ylabel(\"mu1\")  \n",
        "  plt.show()\n",
        "  plt.scatter(hmc_steps,np.asarray(sim_dots)[burn:,1])\n",
        "  plt.title(\"Trace plot mu2\")\n",
        "  plt.xlabel(\"iteration\")\n",
        "  plt.ylabel(\"mu2\")  \n",
        "  plt.show()\n",
        "  plt.scatter(hmc_steps,np.asarray(sim_dots)[burn:,2])\n",
        "  plt.title(\"Trace plot sigma1\")\n",
        "  plt.xlabel(\"iteration\")\n",
        "  plt.ylabel(\"sigma1\")  \n",
        "  plt.show()\n",
        "  plt.scatter(hmc_steps,np.asarray(sim_dots)[burn:,3])\n",
        "  plt.title(\"Trace plot sigma2\")\n",
        "  plt.xlabel(\"iteration\")\n",
        "  plt.ylabel(\"sigma2\")  \n",
        "  plt.show()\n",
        "  plt.scatter(hmc_steps,np.asarray(sim_dots)[burn:,4])\n",
        "  plt.title(\"Trace plot rho\")\n",
        "  plt.xlabel(\"iteration\")\n",
        "  plt.ylabel(\"rho\")  \n",
        "  plt.show()\n",
        "  "
      ],
      "metadata": {
        "id": "SlQoXwUFoPH9"
      },
      "execution_count": 5,
      "outputs": []
    },
    {
      "cell_type": "code",
      "source": [
        "fit_bivariate_w_hmc()"
      ],
      "metadata": {
        "colab": {
          "base_uri": "https://localhost:8080/",
          "height": 1000
        },
        "id": "48ccAKj12zP4",
        "outputId": "5320dfc4-6e2a-4116-dc5b-4e5e777aaeb9"
      },
      "execution_count": 20,
      "outputs": [
        {
          "output_type": "display_data",
          "data": {
            "text/plain": [
              "<Figure size 360x360 with 1 Axes>"
            ],
            "image/png": "[encoded data removed]"
          },
          "metadata": {
            "needs_background": "light"
          }
        },
        {
          "output_type": "stream",
          "name": "stdout",
          "text": [
            "Acceptance rate 1.0\n",
            "First mean 0.9712690429688006 (expected 2.0)\n",
            "Second mean 1.420605931135066 (expected 3.0)\n",
            "First sigma 1.3941969013620263 (expected 1.58)\n",
            "Second sigma 1.4432975597930329 (expected 1.26)\n",
            "Rho 0.04970617179797132 (expected 0.2)\n"
          ]
        },
        {
          "output_type": "display_data",
          "data": {
            "text/plain": [
              "<Figure size 432x288 with 1 Axes>"
            ],
            "image/png": "[encoded data removed]"
          },
          "metadata": {
            "needs_background": "light"
          }
        },
        {
          "output_type": "display_data",
          "data": {
            "text/plain": [
              "<Figure size 432x288 with 1 Axes>"
            ],
            "image/png": "[encoded data removed]"
          },
          "metadata": {
            "needs_background": "light"
          }
        },
        {
          "output_type": "display_data",
          "data": {
            "text/plain": [
              "<Figure size 432x288 with 1 Axes>"
            ],
            "image/png": "[encoded data removed]"
          },
          "metadata": {
            "needs_background": "light"
          }
        },
        {
          "output_type": "display_data",
          "data": {
            "text/plain": [
              "<Figure size 432x288 with 1 Axes>"
            ],
            "image/png": "[encoded data removed]"
          },
          "metadata": {
            "needs_background": "light"
          }
        },
        {
          "output_type": "display_data",
          "data": {
            "text/plain": [
              "<Figure size 432x288 with 1 Axes>"
            ],
            "image/png": "[encoded data removed]"
          },
          "metadata": {
            "needs_background": "light"
          }
        }
      ]
    }
  ]
}